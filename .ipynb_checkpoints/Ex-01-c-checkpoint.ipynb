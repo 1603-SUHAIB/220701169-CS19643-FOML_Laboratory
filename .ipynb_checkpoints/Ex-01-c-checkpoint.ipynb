{
 "cells": [
  {
   "cell_type": "code",
   "execution_count": 1,
   "id": "bb1d198a-08bc-40a8-a3e7-980abab6c27f",
   "metadata": {},
   "outputs": [],
   "source": [
    "import re\n",
    "import string\n",
    "import nltk\n",
    "from nltk.tokenize import word_tokenize\n",
    "from nltk.corpus import stopwords\n",
    "from nltk.stem import WordNetLemmatizer\n",
    "from nltk.tokenize import TreebankWordTokenizer"
   ]
  },
  {
   "cell_type": "code",
   "execution_count": 2,
   "id": "ff4c9916-b56c-4af5-b7a2-5d369d5ede18",
   "metadata": {},
   "outputs": [],
   "source": [
    "text = \"The quick brown fox jumps over 100 lazy dogs! Isn't that amazing?\""
   ]
  },
  {
   "cell_type": "code",
   "execution_count": 3,
   "id": "09de3cef-52f7-40e1-a3f8-939306353913",
   "metadata": {},
   "outputs": [],
   "source": [
    "text = text.lower()"
   ]
  },
  {
   "cell_type": "code",
   "execution_count": 4,
   "id": "2949da54-0d62-43c9-85aa-e32999554303",
   "metadata": {},
   "outputs": [
    {
     "data": {
      "text/plain": [
       "\"the quick brown fox jumps over 100 lazy dogs! isn't that amazing?\""
      ]
     },
     "execution_count": 4,
     "metadata": {},
     "output_type": "execute_result"
    }
   ],
   "source": [
    "text"
   ]
  },
  {
   "cell_type": "code",
   "execution_count": 9,
   "id": "7fcd8f41-a77a-4fa2-9fff-2ba2a5c90fae",
   "metadata": {},
   "outputs": [],
   "source": [
    "text = text.translate(str.maketrans(\"\", \"\", string.punctuation))"
   ]
  },
  {
   "cell_type": "code",
   "execution_count": 11,
   "id": "fe8cff86-4f61-477c-b76e-bfbcec48afe5",
   "metadata": {},
   "outputs": [
    {
     "data": {
      "text/plain": [
       "'the quick brown fox jumps over 100 lazy dogs isnt that amazing'"
      ]
     },
     "execution_count": 11,
     "metadata": {},
     "output_type": "execute_result"
    }
   ],
   "source": [
    "text"
   ]
  },
  {
   "cell_type": "code",
   "execution_count": 13,
   "id": "6dc7b781-6b7e-4845-8717-8b1b469f59dd",
   "metadata": {},
   "outputs": [],
   "source": [
    "text = re.sub(r'\\d+', '', text)"
   ]
  },
  {
   "cell_type": "code",
   "execution_count": 15,
   "id": "d69ff7f1-d7f9-41f6-b8b5-f12b2c91b68d",
   "metadata": {},
   "outputs": [
    {
     "data": {
      "text/plain": [
       "'the quick brown fox jumps over  lazy dogs isnt that amazing'"
      ]
     },
     "execution_count": 15,
     "metadata": {},
     "output_type": "execute_result"
    }
   ],
   "source": [
    "text"
   ]
  },
  {
   "cell_type": "code",
   "execution_count": 17,
   "id": "adb35c1c-b66c-4992-89cc-bd4674f185bc",
   "metadata": {},
   "outputs": [],
   "source": [
    "tokenizer = TreebankWordTokenizer()\n",
    "tokens = tokenizer.tokenize(text)"
   ]
  },
  {
   "cell_type": "code",
   "execution_count": 19,
   "id": "ded8f415-8d37-4c6f-8df8-74caee14f83a",
   "metadata": {},
   "outputs": [
    {
     "name": "stdout",
     "output_type": "stream",
     "text": [
      "['the', 'quick', 'brown', 'fox', 'jumps', 'over', 'lazy', 'dogs', 'isnt', 'that', 'amazing']\n"
     ]
    }
   ],
   "source": [
    "print(tokens)"
   ]
  },
  {
   "cell_type": "code",
   "execution_count": 21,
   "id": "30d201ce-21b9-4ec9-a525-eff6f200b47f",
   "metadata": {},
   "outputs": [],
   "source": [
    "stop_words = set(stopwords.words('english'))\n",
    "tokens = [word for word in tokens if word not in stop_words]"
   ]
  },
  {
   "cell_type": "code",
   "execution_count": 23,
   "id": "9ad01ec9-2f6d-4fd8-b797-410636701889",
   "metadata": {},
   "outputs": [],
   "source": [
    "lemmatizer = WordNetLemmatizer()\n",
    "tokens = [lemmatizer.lemmatize(word) for word in tokens]"
   ]
  },
  {
   "cell_type": "code",
   "execution_count": 25,
   "id": "414be3d6-ac9c-4b2a-9d1b-06fb8c047540",
   "metadata": {},
   "outputs": [],
   "source": [
    "processed_text = \" \".join(tokens)"
   ]
  },
  {
   "cell_type": "code",
   "execution_count": 27,
   "id": "345b488b-979a-4a70-88a3-06f25cfe89a1",
   "metadata": {},
   "outputs": [
    {
     "name": "stdout",
     "output_type": "stream",
     "text": [
      "Original Text: the quick brown fox jumps over  lazy dogs isnt that amazing\n",
      "Processed Text: quick brown fox jump lazy dog isnt amazing\n"
     ]
    }
   ],
   "source": [
    "print(\"Original Text:\", text)\n",
    "print(\"Processed Text:\", processed_text)"
   ]
  }
 ],
 "metadata": {
  "kernelspec": {
   "display_name": "Python 3 (ipykernel)",
   "language": "python",
   "name": "python3"
  },
  "language_info": {
   "codemirror_mode": {
    "name": "ipython",
    "version": 3
   },
   "file_extension": ".py",
   "mimetype": "text/x-python",
   "name": "python",
   "nbconvert_exporter": "python",
   "pygments_lexer": "ipython3",
   "version": "3.12.3"
  }
 },
 "nbformat": 4,
 "nbformat_minor": 5
}
